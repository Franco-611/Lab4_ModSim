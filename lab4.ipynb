{
 "cells": [
  {
   "cell_type": "markdown",
   "metadata": {},
   "source": [
    "# Lab 4\n",
    "\n",
    "Diego Franco - 20240"
   ]
  },
  {
   "cell_type": "markdown",
   "metadata": {},
   "source": [
    "## Ejericicio 1\n",
    "\n",
    "1. Defina un conjunto de reglas para el comportamiento del enemigo, como patrones de movimiento y\n",
    "decisiones de ataque.\n",
    "2. Implemente una simulación de Monte Carlo que genere posibles resultados del comportamiento del\n",
    "enemigo durante una serie de turnos.\n",
    "3. Analice la distribución de los posibles resultados y determine la probabilidad de éxito o fracaso del jugador.\n",
    "4. Ajuste las reglas y los parámetros para explorar diferentes estrategias y resultados de los jugadores."
   ]
  },
  {
   "cell_type": "code",
   "execution_count": 9,
   "metadata": {},
   "outputs": [
    {
     "data": {
      "image/png": "[encoded data removed]",
      "text/plain": [
       "<Figure size 640x480 with 1 Axes>"
      ]
     },
     "metadata": {},
     "output_type": "display_data"
    }
   ],
   "source": [
    "import random\n",
    "import matplotlib.pyplot as plt\n",
    "\n",
    "# Definición de reglas y parámetros\n",
    "NUM_SIMULATIONS = 10000\n",
    "NUM_TURNS = 5\n",
    "PLAYER_POSITION = (0, 0)\n",
    "ENEMY_POSITION = (2, 2)\n",
    "\n",
    "def simulate_enemy_behavior():\n",
    "    player_alive_count = 0\n",
    "    \n",
    "    for _ in range(NUM_SIMULATIONS):\n",
    "        enemy_position = ENEMY_POSITION\n",
    "        \n",
    "        for _ in range(NUM_TURNS):\n",
    "            possible_moves = [(0, 1), (0, -1), (1, 0), (-1, 0)]\n",
    "            move = random.choice(possible_moves)\n",
    "            enemy_position = (enemy_position[0] + move[0], enemy_position[1] + move[1])\n",
    "            \n",
    "            if enemy_position == PLAYER_POSITION:\n",
    "                player_alive_count -= 1\n",
    "                break\n",
    "                \n",
    "        player_alive_count += 1\n",
    "    \n",
    "    success_probability = player_alive_count / NUM_SIMULATIONS\n",
    "    return success_probability\n",
    "\n",
    "def main():\n",
    "    success_probabilities = []\n",
    "    \n",
    "    for _ in range(NUM_SIMULATIONS):\n",
    "        success_probabilities.append(simulate_enemy_behavior())\n",
    "    \n",
    "    # Crear la gráfica de barras\n",
    "    plt.hist(success_probabilities, bins=20, density=True, alpha=0.7, color='blue')\n",
    "    plt.xlabel('Probabilidad de éxito del jugador')\n",
    "    plt.ylabel('Frecuencia relativa')\n",
    "    plt.title('Distribución de la probabilidad de éxito del jugador')\n",
    "    plt.grid(True)\n",
    "    plt.show()\n",
    "\n",
    "if __name__ == \"__main__\":\n",
    "    main()\n"
   ]
  },
  {
   "cell_type": "markdown",
   "metadata": {},
   "source": [
    "Como se puede ver en el gráfico, la probabilidad más alta de ganar es de 0.976 con una frecuencia relativa mayor a 250."
   ]
  },
  {
   "cell_type": "markdown",
   "metadata": {},
   "source": [
    "## Ejericio 2\n",
    "\n",
    "1. Implemente la fórmula de Black-Scholes para calcular el precio teórico de la opción.\n",
    "2. Simule las trayectorias del precio de las acciones mediante el movimiento browniano geométrico.\n",
    "3. Calcule el pago de cada camino y promedielos para estimar el precio de la opción."
   ]
  },
  {
   "cell_type": "code",
   "execution_count": 10,
   "metadata": {},
   "outputs": [
    {
     "name": "stdout",
     "output_type": "stream",
     "text": [
      "Precio de opción (Black-Scholes): 10.450583572185565\n",
      "Precio de opción (Monte Carlo): 11.024032071204276\n"
     ]
    }
   ],
   "source": [
    "import math\n",
    "import numpy as np\n",
    "from scipy.stats import norm\n",
    "\n",
    "def black_scholes_call(S, K, r, T, sigma):\n",
    "    d1 = (math.log(S / K) + (r + 0.5 * sigma ** 2) * T) / (sigma * math.sqrt(T))\n",
    "    d2 = d1 - sigma * math.sqrt(T)\n",
    "    return S * norm.cdf(d1) - K * math.exp(-r * T) * norm.cdf(d2)\n",
    "\n",
    "def monte_carlo_option_price(S, K, r, T, sigma, num_paths, num_steps):\n",
    "    dt = T / num_steps\n",
    "    total_payoff = 0\n",
    "    \n",
    "    for _ in range(num_paths):\n",
    "        price = S\n",
    "        for _ in range(num_steps):\n",
    "            z = np.random.normal(0, 1)\n",
    "            price *= math.exp((r - 0.5 * sigma ** 2) * dt + sigma * math.sqrt(dt) * z)\n",
    "        \n",
    "        payoff = max(price - K, 0)\n",
    "        total_payoff += payoff\n",
    "    \n",
    "    option_price = total_payoff / num_paths\n",
    "    return option_price\n",
    "\n",
    "S = 100   # Precio actual del activo subyacente\n",
    "K = 100   # Precio de ejercicio\n",
    "r = 0.05  # Tasa de interés libre de riesgo\n",
    "T = 1     # Tiempo hasta la expiración\n",
    "sigma = 0.2  # Volatilidad del activo subyacente\n",
    "\n",
    "num_paths = 100000  # Número de trayectorias simuladas\n",
    "num_steps = 252     # Número de pasos en cada trayectoria\n",
    "\n",
    "bs_price = black_scholes_call(S, K, r, T, sigma)\n",
    "mc_price = monte_carlo_option_price(S, K, r, T, sigma, num_paths, num_steps)\n",
    "\n",
    "print(\"Precio de opción (Black-Scholes):\", bs_price)\n",
    "print(\"Precio de opción (Monte Carlo):\", mc_price)\n"
   ]
  },
  {
   "cell_type": "markdown",
   "metadata": {},
   "source": [
    "## Ejericio 3\n",
    "\n",
    "1. Defina las probabilidades de varios eventos de ataques cibernéticos (por ejemplo, phishing, malware).\n",
    "2. Asigne valores de impacto potencial a cada evento (p. ej., pérdida de datos, impacto financiero).\n",
    "3. Implemente una simulación de Monte Carlo para estimar el nivel de riesgo general.\n",
    "4. Analice el impacto de diferentes probabilidades de ataques cibernéticos en el riesgo general."
   ]
  },
  {
   "cell_type": "code",
   "execution_count": 17,
   "metadata": {},
   "outputs": [
    {
     "name": "stdout",
     "output_type": "stream",
     "text": [
      "Probabilidad Phishing: 0.05, Probabilidad Malware: 0.01, Riesgo promedio estimado: 7927.16\n",
      "Probabilidad Phishing: 0.05, Probabilidad Malware: 0.05, Riesgo promedio estimado: 11623.80\n",
      "Probabilidad Phishing: 0.05, Probabilidad Malware: 0.10, Riesgo promedio estimado: 14953.63\n",
      "Probabilidad Phishing: 0.05, Probabilidad Malware: 0.15, Riesgo promedio estimado: 18954.66\n",
      "Probabilidad Phishing: 0.10, Probabilidad Malware: 0.01, Riesgo promedio estimado: 14893.85\n",
      "Probabilidad Phishing: 0.10, Probabilidad Malware: 0.05, Riesgo promedio estimado: 18663.88\n",
      "Probabilidad Phishing: 0.10, Probabilidad Malware: 0.10, Riesgo promedio estimado: 22473.32\n",
      "Probabilidad Phishing: 0.10, Probabilidad Malware: 0.15, Riesgo promedio estimado: 26487.43\n",
      "Probabilidad Phishing: 0.15, Probabilidad Malware: 0.01, Riesgo promedio estimado: 23624.28\n",
      "Probabilidad Phishing: 0.15, Probabilidad Malware: 0.05, Riesgo promedio estimado: 26258.88\n",
      "Probabilidad Phishing: 0.15, Probabilidad Malware: 0.10, Riesgo promedio estimado: 28861.76\n",
      "Probabilidad Phishing: 0.15, Probabilidad Malware: 0.15, Riesgo promedio estimado: 33772.41\n",
      "Probabilidad Phishing: 0.20, Probabilidad Malware: 0.01, Riesgo promedio estimado: 30607.13\n",
      "Probabilidad Phishing: 0.20, Probabilidad Malware: 0.05, Riesgo promedio estimado: 34297.59\n",
      "Probabilidad Phishing: 0.20, Probabilidad Malware: 0.10, Riesgo promedio estimado: 36452.42\n",
      "Probabilidad Phishing: 0.20, Probabilidad Malware: 0.15, Riesgo promedio estimado: 41678.40\n"
     ]
    }
   ],
   "source": [
    "import random\n",
    "\n",
    "# Valores de impacto potencial (ejemplo)\n",
    "impacto_phishing = [100000, 200000]\n",
    "impacto_malware = [50000, 100000]\n",
    "\n",
    "# Número de simulaciones\n",
    "num_simulaciones = 10000\n",
    "\n",
    "# Lista de diferentes probabilidades de ataques cibernéticos para probar\n",
    "probabilidades_phishing = [0.05, 0.1, 0.15, 0.2]\n",
    "probabilidades_malware = [0.01, 0.05, 0.1, 0.15]\n",
    "\n",
    "# Función para simular una iteración\n",
    "def simular_iteracion(prob_phishing, prob_malware):\n",
    "    impacto_total = 0\n",
    "\n",
    "    if random.random() < prob_phishing:\n",
    "        impacto_total += random.randint(impacto_phishing[0], impacto_phishing[1])\n",
    "\n",
    "    if random.random() < prob_malware:\n",
    "        impacto_total += random.randint(impacto_malware[0], impacto_malware[1])\n",
    "\n",
    "    return impacto_total\n",
    "\n",
    "# Realizar simulaciones con diferentes probabilidades de ataques\n",
    "for prob_p in probabilidades_phishing:\n",
    "    for prob_m in probabilidades_malware:\n",
    "        resultados = [simular_iteracion(prob_p, prob_m) for _ in range(num_simulaciones)]\n",
    "        riesgo_promedio = sum(resultados) / num_simulaciones\n",
    "        print(f\"Probabilidad Phishing: {prob_p:.2f}, Probabilidad Malware: {prob_m:.2f}, Riesgo promedio estimado: {riesgo_promedio:.2f}\")\n"
   ]
  },
  {
   "cell_type": "markdown",
   "metadata": {},
   "source": [
    "Los resultados de la simulación indican que a medida que las probabilidades de phishing y malware aumentan, el riesgo promedio estimado también aumenta. Se identifican combinaciones de probabilidades que resultan en mayores riesgos, lo que destaca escenarios más vulnerables. Estos datos pueden guiar decisiones de seguridad, priorizando la mitigación en áreas de mayor riesgo."
   ]
  },
  {
   "cell_type": "markdown",
   "metadata": {},
   "source": [
    "## Ejericio 4\n",
    "\n",
    "1. Defina correctamente el problema, dejando claro las suposiciones y datos\n",
    "2. Defina como Monte Carlo puede ayudarle a solucionar dicho problema\n",
    "3. Escriba un script en su lenguaje de programación favorito solucionando el problema\n",
    "4. Analice correctamente los resultados, extrayendo cualquier insight que considere valioso\n"
   ]
  },
  {
   "cell_type": "markdown",
   "metadata": {},
   "source": [
    "### Descripcción del problema\n",
    "\n",
    "Supongamos que somos responsables de la gestión de recursos hídricos en una región. Necesitamos planificar el uso eficiente de los recursos disponibles para satisfacer las necesidades de suministro de agua en la región, considerando las variaciones en las precipitaciones. Queremos tomar decisiones informadas sobre la construcción de infraestructuras, como embalses y sistemas de riego, para asegurarnos de que habrá suficiente agua para abastecer las demandas en diferentes condiciones climáticas.\n",
    "\n",
    "Suposiciones y datos:\n",
    "\n",
    "- Tenemos datos históricos de precipitaciones en la región.\n",
    "- Queremos simular diferentes escenarios de precipitaciones para los próximos años.\n",
    "- Queremos estimar cómo cambiará el nivel de agua en los embalses y la disponibilidad de agua para riego bajo diferentes condiciones climáticas."
   ]
  },
  {
   "cell_type": "code",
   "execution_count": 19,
   "metadata": {},
   "outputs": [
    {
     "name": "stdout",
     "output_type": "stream",
     "text": [
      "Promedio de déficit de agua: 999.1141531902823 mm\n",
      "Probabilidad de déficit de agua: 1.0\n"
     ]
    }
   ],
   "source": [
    "import numpy as np\n",
    "\n",
    "def simulate_precipitation(num_years, historical_precipitation_mean, historical_precipitation_std):\n",
    "    simulations = []\n",
    "    for _ in range(num_years):\n",
    "        simulated_precipitation = np.random.normal(historical_precipitation_mean, historical_precipitation_std)\n",
    "        simulations.append(simulated_precipitation)\n",
    "    return simulations\n",
    "\n",
    "def analyze_results(simulated_precipitations, water_demand):\n",
    "    deficits = []\n",
    "    for precipitation in simulated_precipitations:\n",
    "        water_available = max(precipitation - water_demand, 0)\n",
    "        deficits.append(water_demand - water_available)\n",
    "    return deficits\n",
    "\n",
    "# Datos de entrada\n",
    "num_simulations = 10000\n",
    "historical_mean = 800  # mm de precipitación\n",
    "historical_std = 100    # mm de precipitación\n",
    "water_demand = 1000     # mm de agua\n",
    "\n",
    "# Simulación de precipitaciones\n",
    "simulated_precipitations = simulate_precipitation(num_simulations, historical_mean, historical_std)\n",
    "\n",
    "# Análisis de resultados\n",
    "deficits = analyze_results(simulated_precipitations, water_demand)\n",
    "avg_deficit = np.mean(deficits)\n",
    "chance_of_deficit = np.mean(np.array(deficits) > 0)\n",
    "\n",
    "print(f\"Promedio de déficit de agua: {avg_deficit} mm\")\n",
    "print(f\"Probabilidad de déficit de agua: {chance_of_deficit}\")\n"
   ]
  },
  {
   "cell_type": "markdown",
   "metadata": {},
   "source": [
    "Promedio de déficit de agua: El promedio de déficit de agua es aproximadamente 999.11 mm. Esto significa que, en promedio, la región enfrenta una escasez de agua de alrededor de 999.11 mm en un año típico simulado. Este valor alto sugiere que la cantidad de precipitación generada en las simulaciones no es suficiente para satisfacer la demanda de agua establecida en 1000 mm.\n",
    "\n",
    "Probabilidad de déficit de agua: La probabilidad de déficit de agua es del 100%, lo que significa que en todas las simulaciones realizadas, hubo un déficit de agua en comparación con la demanda establecida. Esto indica que las precipitaciones simuladas en base a las distribuciones históricas no fueron capaces de cumplir con las necesidades de agua de la región en ningún año simulado.\n",
    "\n",
    "Dado que la probabilidad de déficit de agua es del 100%, es evidente que la región está experimentando escasez de agua en todas las simulaciones. Esto podría tener graves implicaciones para la disponibilidad de agua potable, riego agrícola y otros usos esenciales. Es posible que se necesiten medidas de adaptación y mitigación, como la construcción de infraestructuras hídricas más grandes, la implementación de prácticas de conservación de agua y la promoción de un uso más eficiente del recurso hídrico."
   ]
  }
 ],
 "metadata": {
  "kernelspec": {
   "display_name": "Python 3",
   "language": "python",
   "name": "python3"
  },
  "language_info": {
   "codemirror_mode": {
    "name": "ipython",
    "version": 3
   },
   "file_extension": ".py",
   "mimetype": "text/x-python",
   "name": "python",
   "nbconvert_exporter": "python",
   "pygments_lexer": "ipython3",
   "version": "3.11.1"
  },
  "orig_nbformat": 4
 },
 "nbformat": 4,
 "nbformat_minor": 2
}
